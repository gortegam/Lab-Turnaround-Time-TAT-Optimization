{
 "cells": [
  {
   "cell_type": "markdown",
   "id": "4d7aa853",
   "metadata": {},
   "source": [
    "# Lab TAT — Root Cause & Bottleneck Analysis"
   ]
  },
  {
   "cell_type": "markdown",
   "id": "ed10c4d5",
   "metadata": {},
   "source": [
    "\n",
    "This notebook deepens the baseline EDA by:\n",
    "- Stage contribution analysis across tests/benches/shifts\n",
    "- Control charts (daily median TAT with ±3σ bands)\n",
    "- Outlier (95th percentile) analysis and cross-tabs\n",
    "- Hourly load vs analytical delay\n",
    "- STAT vs Routine fairness checks\n",
    "- Instrument/bench stability indicators\n",
    "- Rolling trends and simple time trend modeling\n"
   ]
  },
  {
   "cell_type": "code",
   "execution_count": null,
   "id": "28200333",
   "metadata": {},
   "outputs": [],
   "source": [
    "\n",
    "import pandas as pd\n",
    "import numpy as np\n",
    "import matplotlib.pyplot as plt\n",
    "\n",
    "pd.set_option(\"display.max_rows\", 50)\n",
    "pd.set_option(\"display.width\", 140)\n",
    "\n",
    "df = pd.read_csv(\"../data/lab_events.csv\", parse_dates=[\n",
    "    \"collection_time\",\"receipt_time\",\"start_analysis_time\",\"verification_time\",\"report_time\"\n",
    "])\n",
    "\n",
    "df[\"tat_pre\"]  = (df[\"receipt_time\"] - df[\"collection_time\"]).dt.total_seconds()/60\n",
    "df[\"tat_anal\"] = (df[\"verification_time\"] - df[\"start_analysis_time\"]).dt.total_seconds()/60\n",
    "df[\"tat_post\"] = (df[\"report_time\"] - df[\"verification_time\"]).dt.total_seconds()/60\n",
    "df[\"tat_total\"]= (df[\"report_time\"] - df[\"collection_time\"]).dt.total_seconds()/60\n",
    "df = df[(df[\"tat_total\"]>=0) & (df[\"tat_total\"]<=7*24*60)]\n",
    "\n",
    "sla_map = {\"CBC\":120, \"CMP\":240, \"PT/INR\":60, \"UA\":120, \"PathReview\":2880}\n",
    "df[\"sla_min\"] = df[\"test_code\"].map(sla_map).fillna(240)\n",
    "df[\"sla_hit\"] = (df[\"tat_total\"] <= df[\"sla_min\"]).astype(int)\n",
    "\n",
    "df[\"date\"] = df[\"receipt_time\"].dt.date\n",
    "df[\"hour\"] = df[\"receipt_time\"].dt.hour\n",
    "\n",
    "df.head()\n"
   ]
  },
  {
   "cell_type": "markdown",
   "id": "76fdc7ac",
   "metadata": {},
   "source": [
    "## Stage Contributions (Pre / Anal / Post) by Test / Bench / Shift"
   ]
  },
  {
   "cell_type": "code",
   "execution_count": null,
   "id": "74318d4d",
   "metadata": {},
   "outputs": [],
   "source": [
    "\n",
    "stage_share = (df[[\"tat_pre\",\"tat_anal\",\"tat_post\"]].div(df[\"tat_total\"], axis=0)\n",
    "               .replace([np.inf,-np.inf], np.nan).fillna(0))\n",
    "share_df = pd.concat([df[[\"test_code\",\"bench\",\"shift\"]], stage_share], axis=1)\n",
    "\n",
    "by_test_share = share_df.groupby(\"test_code\")[[\"tat_pre\",\"tat_anal\",\"tat_post\"]].median().sort_values(\"tat_anal\", ascending=False)\n",
    "by_bench_share = share_df.groupby(\"bench\")[[\"tat_pre\",\"tat_anal\",\"tat_post\"]].median().sort_values(\"tat_anal\", ascending=False)\n",
    "by_shift_share = share_df.groupby(\"shift\")[[\"tat_pre\",\"tat_anal\",\"tat_post\"]].median().sort_values(\"tat_anal\", ascending=False)\n",
    "\n",
    "by_test_share, by_bench_share, by_shift_share\n"
   ]
  },
  {
   "cell_type": "code",
   "execution_count": null,
   "id": "a32a2776",
   "metadata": {},
   "outputs": [],
   "source": [
    "\n",
    "def stacked_bar(df_in, title):\n",
    "    labels = df_in.index.astype(str)\n",
    "    pre = df_in[\"tat_pre\"].values\n",
    "    anal = df_in[\"tat_anal\"].values\n",
    "    post = df_in[\"tat_post\"].values\n",
    "    x = np.arange(len(labels))\n",
    "    fig, ax = plt.subplots(figsize=(10,4))\n",
    "    ax.bar(x, pre, label=\"Pre\")\n",
    "    ax.bar(x, anal, bottom=pre, label=\"Analytical\")\n",
    "    ax.bar(x, post, bottom=pre+anal, label=\"Post\")\n",
    "    ax.set_xticks(x)\n",
    "    ax.set_xticklabels(labels, rotation=45, ha=\"right\")\n",
    "    ax.set_ylabel(\"Share of total TAT\")\n",
    "    ax.set_title(title)\n",
    "    ax.legend()\n",
    "    plt.tight_layout()\n",
    "    plt.show()\n",
    "\n",
    "stacked_bar(by_test_share, \"Median Stage Contributions by Test\")\n",
    "stacked_bar(by_bench_share, \"Median Stage Contributions by Bench\")\n",
    "stacked_bar(by_shift_share, \"Median Stage Contributions by Shift\")\n"
   ]
  },
  {
   "cell_type": "markdown",
   "id": "9956fb14",
   "metadata": {},
   "source": [
    "## Control Charts — Daily Median TAT with ±3σ Bands"
   ]
  },
  {
   "cell_type": "code",
   "execution_count": null,
   "id": "167f15f5",
   "metadata": {},
   "outputs": [],
   "source": [
    "\n",
    "daily = df.groupby(\"date\").agg(tat_median=(\"tat_total\",\"median\")).reset_index()\n",
    "mu = daily[\"tat_median\"].mean()\n",
    "sigma = daily[\"tat_median\"].std()\n",
    "ucl = mu + 3*sigma\n",
    "lcl = max(mu - 3*sigma, 0)\n",
    "\n",
    "fig, ax = plt.subplots(figsize=(10,4))\n",
    "ax.plot(daily[\"date\"], daily[\"tat_median\"], marker=\"o\")\n",
    "ax.axhline(mu, linestyle=\"--\")\n",
    "ax.axhline(ucl, linestyle=\"--\")\n",
    "ax.axhline(lcl, linestyle=\"--\")\n",
    "ax.set_title(\"Daily Median TAT — Control Chart\")\n",
    "ax.set_ylabel(\"Minutes\")\n",
    "ax.set_xlabel(\"Date\")\n",
    "ax.grid(True)\n",
    "plt.tight_layout()\n",
    "plt.show()\n",
    "\n",
    "daily[(daily[\"tat_median\"]>ucl) | (daily[\"tat_median\"]<lcl)].head()\n"
   ]
  },
  {
   "cell_type": "markdown",
   "id": "5164898f",
   "metadata": {},
   "source": [
    "## Outliers (95th Percentile) & Cross-Tabs"
   ]
  },
  {
   "cell_type": "code",
   "execution_count": null,
   "id": "daa7551f",
   "metadata": {},
   "outputs": [],
   "source": [
    "\n",
    "p95 = np.percentile(df[\"tat_total\"], 95)\n",
    "outliers = df[df[\"tat_total\"] >= p95]\n",
    "\n",
    "ct_test = outliers[\"test_code\"].value_counts(normalize=True).rename(\"share_outliers\")\n",
    "ct_shift = outliers[\"shift\"].value_counts(normalize=True).rename(\"share_outliers\")\n",
    "ct_bench = outliers[\"bench\"].value_counts(normalize=True).rename(\"share_outliers\")\n",
    "\n",
    "ct_test, ct_shift, ct_bench\n"
   ]
  },
  {
   "cell_type": "markdown",
   "id": "f29e2ac8",
   "metadata": {},
   "source": [
    "## Hourly Load vs Analytical Delay"
   ]
  },
  {
   "cell_type": "code",
   "execution_count": null,
   "id": "2be4428b",
   "metadata": {},
   "outputs": [],
   "source": [
    "\n",
    "by_hour = df.groupby(\"hour\").agg(\n",
    "    volume=(\"order_id\",\"count\"),\n",
    "    anal_median=(\"tat_anal\",\"median\"),\n",
    "    total_median=(\"tat_total\",\"median\")\n",
    ").reset_index()\n",
    "\n",
    "fig, ax = plt.subplots(figsize=(10,4))\n",
    "ax.plot(by_hour[\"hour\"], by_hour[\"volume\"], marker=\"o\")\n",
    "ax.set_xlabel(\"Hour of Receipt\")\n",
    "ax.set_ylabel(\"Volume\")\n",
    "ax.set_title(\"Hourly Volume\")\n",
    "ax.grid(True)\n",
    "plt.tight_layout()\n",
    "plt.show()\n",
    "\n",
    "fig, ax = plt.subplots(figsize=(10,4))\n",
    "ax.plot(by_hour[\"hour\"], by_hour[\"anal_median\"], marker=\"o\")\n",
    "ax.set_xlabel(\"Hour of Receipt\")\n",
    "ax.set_ylabel(\"Analytical TAT (median, min)\")\n",
    "ax.set_title(\"Hourly Analytical Median TAT\")\n",
    "ax.grid(True)\n",
    "plt.tight_layout()\n",
    "plt.show()\n",
    "\n",
    "fig, ax = plt.subplots(figsize=(10,4))\n",
    "ax.plot(by_hour[\"hour\"], by_hour[\"total_median\"], marker=\"o\")\n",
    "ax.set_xlabel(\"Hour of Receipt\")\n",
    "ax.set_ylabel(\"Total TAT (median, min)\")\n",
    "ax.set_title(\"Hourly Total Median TAT\")\n",
    "ax.grid(True)\n",
    "plt.tight_layout()\n",
    "plt.show()\n"
   ]
  },
  {
   "cell_type": "markdown",
   "id": "0e0b9148",
   "metadata": {},
   "source": [
    "## STAT vs Routine Fairness Check"
   ]
  },
  {
   "cell_type": "code",
   "execution_count": null,
   "id": "23d31b35",
   "metadata": {},
   "outputs": [],
   "source": [
    "\n",
    "stat_df = df[df[\"priority\"]==\"STAT\"]\n",
    "routine_df = df[df[\"priority\"]==\"Routine\"]\n",
    "\n",
    "summary = pd.DataFrame({\n",
    "    \"Median_TAT_STAT\":[stat_df[\"tat_total\"].median()],\n",
    "    \"Median_TAT_Routine\":[routine_df[\"tat_total\"].median()],\n",
    "    \"Median_Pre_STAT\":[stat_df[\"tat_pre\"].median()],\n",
    "    \"Median_Pre_Routine\":[routine_df[\"tat_pre\"].median()],\n",
    "})\n",
    "\n",
    "daily_share_stat = df.groupby(\"date\").apply(lambda x: (x[\"priority\"]==\"STAT\").mean()).rename(\"share_stat\").reset_index()\n",
    "daily_routine_tat = routine_df.groupby(\"date\").agg(routine_median=(\"tat_total\",\"median\")).reset_index()\n",
    "fair = pd.merge(daily_share_stat, daily_routine_tat, on=\"date\", how=\"inner\")\n",
    "\n",
    "fig, ax = plt.subplots(figsize=(10,4))\n",
    "ax.scatter(fair[\"share_stat\"], fair[\"routine_median\"])\n",
    "ax.set_xlabel(\"STAT Share (by day)\")\n",
    "ax.set_ylabel(\"Routine Median TAT (min)\")\n",
    "ax.set_title(\"Does STAT Volume Push Routine TAT Up?\")\n",
    "ax.grid(True)\n",
    "plt.tight_layout()\n",
    "plt.show()\n",
    "\n",
    "summary, fair.head()\n"
   ]
  },
  {
   "cell_type": "markdown",
   "id": "7a05c363",
   "metadata": {},
   "source": [
    "## Instrument Stability (Cancellation/Recollect Proxies)"
   ]
  },
  {
   "cell_type": "code",
   "execution_count": null,
   "id": "eef44ced",
   "metadata": {},
   "outputs": [],
   "source": [
    "\n",
    "inst = df.groupby(\"instrument_id\").agg(\n",
    "    n=(\"order_id\",\"count\"),\n",
    "    tat_median=(\"tat_total\",\"median\"),\n",
    "    cancel_rate=(\"canceled\",\"mean\"),\n",
    "    recollect_rate=(\"recollect_flag\",\"mean\")\n",
    ").reset_index().sort_values(\"tat_median\", ascending=False)\n",
    "\n",
    "fig, ax = plt.subplots(figsize=(8,4))\n",
    "ax.bar(inst[\"instrument_id\"], inst[\"tat_median\"])\n",
    "ax.set_xlabel(\"Instrument\")\n",
    "ax.set_ylabel(\"Median Total TAT (min)\")\n",
    "ax.set_title(\"Median TAT by Instrument\")\n",
    "plt.tight_layout()\n",
    "plt.show()\n",
    "\n",
    "inst.head(10)\n"
   ]
  },
  {
   "cell_type": "markdown",
   "id": "0ababf2f",
   "metadata": {},
   "source": [
    "## Rolling Trends & Time Trend Modeling"
   ]
  },
  {
   "cell_type": "code",
   "execution_count": null,
   "id": "17dbbbdc",
   "metadata": {},
   "outputs": [],
   "source": [
    "\n",
    "daily2 = df.groupby(\"date\").agg(\n",
    "    tat_median=(\"tat_total\",\"median\"),\n",
    "    sla=(\"sla_hit\",\"mean\")\n",
    ").reset_index()\n",
    "\n",
    "daily2[\"tat_med_roll7\"] = daily2[\"tat_median\"].rolling(7, min_periods=3).median()\n",
    "daily2[\"sla_roll7\"] = daily2[\"sla\"].rolling(7, min_periods=3).mean()\n",
    "\n",
    "fig, ax = plt.subplots(figsize=(10,4))\n",
    "ax.plot(daily2[\"date\"], daily2[\"tat_median\"], marker=\"o\", label=\"Daily Median\")\n",
    "ax.plot(daily2[\"date\"], daily2[\"tat_med_roll7\"], label=\"7-day Rolling Median\")\n",
    "ax.set_title(\"Daily Median TAT with Rolling Trend\")\n",
    "ax.set_ylabel(\"Minutes\")\n",
    "ax.set_xlabel(\"Date\")\n",
    "ax.grid(True)\n",
    "ax.legend()\n",
    "plt.tight_layout()\n",
    "plt.show()\n",
    "\n",
    "x = np.arange(len(daily2))\n",
    "y = daily2[\"tat_median\"].values\n",
    "coef = np.polyfit(x, y, 1)\n",
    "trend = coef[0]*x + coef[1]\n",
    "\n",
    "fig, ax = plt.subplots(figsize=(10,4))\n",
    "ax.plot(daily2[\"date\"], y, marker=\"o\", label=\"Daily Median\")\n",
    "ax.plot(daily2[\"date\"], trend, label=\"Linear Trend\")\n",
    "ax.set_title(\"Time Trend in Median TAT (Linear Fit)\")\n",
    "ax.set_ylabel(\"Minutes\")\n",
    "ax.set_xlabel(\"Date\")\n",
    "ax.grid(True)\n",
    "ax.legend()\n",
    "plt.tight_layout()\n",
    "plt.show()\n",
    "\n",
    "coef\n"
   ]
  },
  {
   "cell_type": "markdown",
   "id": "8f0a5293",
   "metadata": {},
   "source": [
    "\n",
    "## Recommendations Scaffold (fill after reviewing outputs)\n",
    "- Staffing: e.g., add 1 FTE to Evening shift at Bench X → expect median TAT ↓ Y% (based on hourly volume and analytical delay).\n",
    "- Process: reduce pre-analytical delays between collection and receipt for Test Z (e.g., courier schedule adjustment).\n",
    "- Quality: investigate Instrument(s) with higher cancellation/recollect rates.\n",
    "- SLA: test alternative thresholds in the dashboard to balance priorities.\n",
    "\n",
    "Export a short list of action items with metrics before/after (if you run a simulation in a separate notebook).\n"
   ]
  }
 ],
 "metadata": {},
 "nbformat": 4,
 "nbformat_minor": 5
}
